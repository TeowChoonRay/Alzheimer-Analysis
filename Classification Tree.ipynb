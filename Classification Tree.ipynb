{
 "cells": [
  {
   "cell_type": "markdown",
   "id": "4dcf8bac",
   "metadata": {},
   "source": [
    "# IMPORT ESSENTIAL PYTHON LIBRARIES"
   ]
  },
  {
   "cell_type": "code",
   "execution_count": 15,
   "id": "70315171",
   "metadata": {},
   "outputs": [],
   "source": [
    "# Basic Libraries\n",
    "import numpy as np\n",
    "import pandas as pd\n",
    "import seaborn as sb\n",
    "import matplotlib.pyplot as plt # we only need pyplot\n",
    "sb.set() # set the default Seaborn style for graphics"
   ]
  },
  {
   "cell_type": "code",
   "execution_count": 16,
   "id": "1e4c1456",
   "metadata": {},
   "outputs": [],
   "source": [
    "# Import essential models and functions from sklearn\n",
    "from sklearn.tree import DecisionTreeClassifier # Decision Tree Classifier model from Scikit-Learn\n",
    "from sklearn.model_selection import train_test_split\n",
    "from sklearn.metrics import confusion_matrix # to plot the two-way Confusion Matrix\n",
    "from sklearn.tree import plot_tree # to plot the trained Decision Tree"
   ]
  },
  {
   "cell_type": "code",
   "execution_count": 17,
   "id": "7eca8ae7",
   "metadata": {},
   "outputs": [],
   "source": [
    "# Import the encoder from sklearn\n",
    "from sklearn.preprocessing import OneHotEncoder\n",
    "ohe = OneHotEncoder()"
   ]
  },
  {
   "cell_type": "markdown",
   "id": "8647a76f",
   "metadata": {},
   "source": [
    "# IMPORT THE DATASET\n",
    "\n",
    "We will use the data stored in `cleaned-alzheimers-dataset.csv` created at the end of `Data Extraction and Cleaning`"
   ]
  },
  {
   "cell_type": "code",
   "execution_count": 24,
   "id": "7f02f3ab",
   "metadata": {},
   "outputs": [
    {
     "data": {
      "text/html": [
       "<div>\n",
       "<style scoped>\n",
       "    .dataframe tbody tr th:only-of-type {\n",
       "        vertical-align: middle;\n",
       "    }\n",
       "\n",
       "    .dataframe tbody tr th {\n",
       "        vertical-align: top;\n",
       "    }\n",
       "\n",
       "    .dataframe thead th {\n",
       "        text-align: right;\n",
       "    }\n",
       "</style>\n",
       "<table border=\"1\" class=\"dataframe\">\n",
       "  <thead>\n",
       "    <tr style=\"text-align: right;\">\n",
       "      <th></th>\n",
       "      <th>M/F</th>\n",
       "      <th>Age</th>\n",
       "      <th>Educ</th>\n",
       "      <th>SES</th>\n",
       "      <th>MMSE</th>\n",
       "      <th>CDR</th>\n",
       "      <th>eTIV</th>\n",
       "      <th>nWBV</th>\n",
       "      <th>ASF</th>\n",
       "    </tr>\n",
       "  </thead>\n",
       "  <tbody>\n",
       "    <tr>\n",
       "      <th>0</th>\n",
       "      <td>F</td>\n",
       "      <td>74</td>\n",
       "      <td>2.0</td>\n",
       "      <td>3.0</td>\n",
       "      <td>29.0</td>\n",
       "      <td>0.0</td>\n",
       "      <td>1344</td>\n",
       "      <td>0.743</td>\n",
       "      <td>1.306</td>\n",
       "    </tr>\n",
       "    <tr>\n",
       "      <th>1</th>\n",
       "      <td>F</td>\n",
       "      <td>55</td>\n",
       "      <td>4.0</td>\n",
       "      <td>1.0</td>\n",
       "      <td>29.0</td>\n",
       "      <td>0.0</td>\n",
       "      <td>1147</td>\n",
       "      <td>0.810</td>\n",
       "      <td>1.531</td>\n",
       "    </tr>\n",
       "    <tr>\n",
       "      <th>2</th>\n",
       "      <td>F</td>\n",
       "      <td>73</td>\n",
       "      <td>4.0</td>\n",
       "      <td>3.0</td>\n",
       "      <td>27.0</td>\n",
       "      <td>0.5</td>\n",
       "      <td>1454</td>\n",
       "      <td>0.708</td>\n",
       "      <td>1.207</td>\n",
       "    </tr>\n",
       "    <tr>\n",
       "      <th>8</th>\n",
       "      <td>M</td>\n",
       "      <td>74</td>\n",
       "      <td>5.0</td>\n",
       "      <td>2.0</td>\n",
       "      <td>30.0</td>\n",
       "      <td>0.0</td>\n",
       "      <td>1636</td>\n",
       "      <td>0.689</td>\n",
       "      <td>1.073</td>\n",
       "    </tr>\n",
       "    <tr>\n",
       "      <th>9</th>\n",
       "      <td>F</td>\n",
       "      <td>52</td>\n",
       "      <td>3.0</td>\n",
       "      <td>2.0</td>\n",
       "      <td>30.0</td>\n",
       "      <td>0.0</td>\n",
       "      <td>1321</td>\n",
       "      <td>0.827</td>\n",
       "      <td>1.329</td>\n",
       "    </tr>\n",
       "    <tr>\n",
       "      <th>...</th>\n",
       "      <td>...</td>\n",
       "      <td>...</td>\n",
       "      <td>...</td>\n",
       "      <td>...</td>\n",
       "      <td>...</td>\n",
       "      <td>...</td>\n",
       "      <td>...</td>\n",
       "      <td>...</td>\n",
       "      <td>...</td>\n",
       "    </tr>\n",
       "    <tr>\n",
       "      <th>368</th>\n",
       "      <td>M</td>\n",
       "      <td>82</td>\n",
       "      <td>16.0</td>\n",
       "      <td>1.0</td>\n",
       "      <td>28.0</td>\n",
       "      <td>0.5</td>\n",
       "      <td>1693</td>\n",
       "      <td>0.694</td>\n",
       "      <td>1.037</td>\n",
       "    </tr>\n",
       "    <tr>\n",
       "      <th>369</th>\n",
       "      <td>M</td>\n",
       "      <td>86</td>\n",
       "      <td>16.0</td>\n",
       "      <td>1.0</td>\n",
       "      <td>26.0</td>\n",
       "      <td>0.5</td>\n",
       "      <td>1688</td>\n",
       "      <td>0.675</td>\n",
       "      <td>1.040</td>\n",
       "    </tr>\n",
       "    <tr>\n",
       "      <th>370</th>\n",
       "      <td>F</td>\n",
       "      <td>61</td>\n",
       "      <td>13.0</td>\n",
       "      <td>2.0</td>\n",
       "      <td>30.0</td>\n",
       "      <td>0.0</td>\n",
       "      <td>1319</td>\n",
       "      <td>0.801</td>\n",
       "      <td>1.331</td>\n",
       "    </tr>\n",
       "    <tr>\n",
       "      <th>371</th>\n",
       "      <td>F</td>\n",
       "      <td>63</td>\n",
       "      <td>13.0</td>\n",
       "      <td>2.0</td>\n",
       "      <td>30.0</td>\n",
       "      <td>0.0</td>\n",
       "      <td>1327</td>\n",
       "      <td>0.796</td>\n",
       "      <td>1.323</td>\n",
       "    </tr>\n",
       "    <tr>\n",
       "      <th>372</th>\n",
       "      <td>F</td>\n",
       "      <td>65</td>\n",
       "      <td>13.0</td>\n",
       "      <td>2.0</td>\n",
       "      <td>30.0</td>\n",
       "      <td>0.0</td>\n",
       "      <td>1333</td>\n",
       "      <td>0.801</td>\n",
       "      <td>1.317</td>\n",
       "    </tr>\n",
       "  </tbody>\n",
       "</table>\n",
       "<p>608 rows × 9 columns</p>\n",
       "</div>"
      ],
      "text/plain": [
       "    M/F  Age  Educ  SES  MMSE  CDR  eTIV   nWBV    ASF\n",
       "0     F   74   2.0  3.0  29.0  0.0  1344  0.743  1.306\n",
       "1     F   55   4.0  1.0  29.0  0.0  1147  0.810  1.531\n",
       "2     F   73   4.0  3.0  27.0  0.5  1454  0.708  1.207\n",
       "8     M   74   5.0  2.0  30.0  0.0  1636  0.689  1.073\n",
       "9     F   52   3.0  2.0  30.0  0.0  1321  0.827  1.329\n",
       "..   ..  ...   ...  ...   ...  ...   ...    ...    ...\n",
       "368   M   82  16.0  1.0  28.0  0.5  1693  0.694  1.037\n",
       "369   M   86  16.0  1.0  26.0  0.5  1688  0.675  1.040\n",
       "370   F   61  13.0  2.0  30.0  0.0  1319  0.801  1.331\n",
       "371   F   63  13.0  2.0  30.0  0.0  1327  0.796  1.323\n",
       "372   F   65  13.0  2.0  30.0  0.0  1333  0.801  1.317\n",
       "\n",
       "[608 rows x 9 columns]"
      ]
     },
     "execution_count": 24,
     "metadata": {},
     "output_type": "execute_result"
    }
   ],
   "source": [
    "alzheimersData = pd.read_csv('cleaned-alzheimers-dataset.csv',index_col= 0)\n",
    "alzheimersData"
   ]
  },
  {
   "cell_type": "markdown",
   "id": "767f4949",
   "metadata": {},
   "source": [
    "# CREATING A MODEL FOR `CDR`: Attempt 1"
   ]
  },
  {
   "cell_type": "markdown",
   "id": "f23e46b8",
   "metadata": {},
   "source": [
    "## Encode Categorical Variables\n",
    "\n",
    "`DecisionTreeClassifier` in `sklearn` does not handle categorical variables directly as a part of the current implementation. Thus, there is a need to encode the levels of a categorical variable as integers. For categorical variables which may not be *ordinal*, `OneHotEncoding` from `sklearn` preprocessing module will be used.\n",
    "\n",
    "TO CHECK: `Educ`and `SES`are already encoded as integers in the cleaned dataset. `M/F` - Gender is not ordinal. Hence, it should be encoded by `OneHotEncoding` "
   ]
  },
  {
   "cell_type": "code",
   "execution_count": 21,
   "id": "9e94259b",
   "metadata": {},
   "outputs": [
    {
     "name": "stdout",
     "output_type": "stream",
     "text": [
      "<class 'pandas.core.frame.DataFrame'>\n",
      "Index: 608 entries, 0 to 372\n",
      "Data columns (total 1 columns):\n",
      " #   Column  Non-Null Count  Dtype \n",
      "---  ------  --------------  ----- \n",
      " 0   M/F     608 non-null    object\n",
      "dtypes: object(1)\n",
      "memory usage: 25.7+ KB\n"
     ]
    }
   ],
   "source": [
    "# OneHotEncoding of categorical predictors (not the response)\n",
    "alzheimersData_gender = alzheimersData[['M/F']]\n",
    "ohe.fit(alzheimersData_gender)\n",
    "alzheimersData_gender_ohe = pd.DataFrame(ohe.transform(alzheimersData_gender).toarray(), \n",
    "                                  columns=ohe.get_feature_names_out(alzheimersData_gender.columns))\n",
    "\n",
    "# Check the encoded variables\n",
    "alzheimersData_gender.info()"
   ]
  },
  {
   "cell_type": "code",
   "execution_count": 34,
   "id": "0383140c",
   "metadata": {},
   "outputs": [
    {
     "name": "stdout",
     "output_type": "stream",
     "text": [
      "<class 'pandas.core.frame.DataFrame'>\n",
      "Index: 2432 entries, 0 to 372\n",
      "Data columns (total 7 columns):\n",
      " #   Column  Non-Null Count  Dtype  \n",
      "---  ------  --------------  -----  \n",
      " 0   Age     608 non-null    float64\n",
      " 1   MMSE    606 non-null    float64\n",
      " 2   M/F_F   608 non-null    float64\n",
      " 3   M/F_M   608 non-null    float64\n",
      " 4   Educ    608 non-null    float64\n",
      " 5   SES     570 non-null    float64\n",
      " 6   0       608 non-null    float64\n",
      "dtypes: float64(7)\n",
      "memory usage: 152.0 KB\n"
     ]
    }
   ],
   "source": [
    "# Combining Numeric features with the OHE Categorical features\n",
    "alzheimersData_num = alzheimersData[['Age','MMSE']]\n",
    "alzheimersData_cat = alzheimersData[['Educ','SES']]\n",
    "alzheimersData_response = alzheimersData['CDR']\n",
    "alzheimersData_ohe = pd.concat([alzheimersData_num, alzheimersData_gender_ohe, alzheimersData_cat, alzheimersData_response])\n",
    "\n",
    "# Check the final dataframe\n",
    "alzheimersData_ohe.info()"
   ]
  },
  {
   "cell_type": "markdown",
   "id": "38dbcdda",
   "metadata": {},
   "source": [
    "## Create and Fit the Model\n",
    "\n",
    "Finally, after the encoding is done, we can create and fit the `DecisionTreeClassifier` model on the dataset.\n",
    "\n"
   ]
  },
  {
   "cell_type": "code",
   "execution_count": 32,
   "id": "b8180101",
   "metadata": {},
   "outputs": [
    {
     "ename": "KeyError",
     "evalue": "'0'",
     "output_type": "error",
     "traceback": [
      "\u001b[0;31m---------------------------------------------------------------------------\u001b[0m",
      "\u001b[0;31mKeyError\u001b[0m                                  Traceback (most recent call last)",
      "File \u001b[0;32m~/anaconda3/lib/python3.11/site-packages/pandas/core/indexes/base.py:3653\u001b[0m, in \u001b[0;36mIndex.get_loc\u001b[0;34m(self, key)\u001b[0m\n\u001b[1;32m   3652\u001b[0m \u001b[38;5;28;01mtry\u001b[39;00m:\n\u001b[0;32m-> 3653\u001b[0m     \u001b[38;5;28;01mreturn\u001b[39;00m \u001b[38;5;28mself\u001b[39m\u001b[38;5;241m.\u001b[39m_engine\u001b[38;5;241m.\u001b[39mget_loc(casted_key)\n\u001b[1;32m   3654\u001b[0m \u001b[38;5;28;01mexcept\u001b[39;00m \u001b[38;5;167;01mKeyError\u001b[39;00m \u001b[38;5;28;01mas\u001b[39;00m err:\n",
      "File \u001b[0;32m~/anaconda3/lib/python3.11/site-packages/pandas/_libs/index.pyx:147\u001b[0m, in \u001b[0;36mpandas._libs.index.IndexEngine.get_loc\u001b[0;34m()\u001b[0m\n",
      "File \u001b[0;32m~/anaconda3/lib/python3.11/site-packages/pandas/_libs/index.pyx:176\u001b[0m, in \u001b[0;36mpandas._libs.index.IndexEngine.get_loc\u001b[0;34m()\u001b[0m\n",
      "File \u001b[0;32mpandas/_libs/hashtable_class_helper.pxi:7080\u001b[0m, in \u001b[0;36mpandas._libs.hashtable.PyObjectHashTable.get_item\u001b[0;34m()\u001b[0m\n",
      "File \u001b[0;32mpandas/_libs/hashtable_class_helper.pxi:7088\u001b[0m, in \u001b[0;36mpandas._libs.hashtable.PyObjectHashTable.get_item\u001b[0;34m()\u001b[0m\n",
      "\u001b[0;31mKeyError\u001b[0m: '0'",
      "\nThe above exception was the direct cause of the following exception:\n",
      "\u001b[0;31mKeyError\u001b[0m                                  Traceback (most recent call last)",
      "Cell \u001b[0;32mIn[32], line 2\u001b[0m\n\u001b[1;32m      1\u001b[0m \u001b[38;5;66;03m# Extract Response and Predictors\u001b[39;00m\n\u001b[0;32m----> 2\u001b[0m y \u001b[38;5;241m=\u001b[39m pd\u001b[38;5;241m.\u001b[39mDataFrame(alzheimersData_ohe[\u001b[38;5;124m'\u001b[39m\u001b[38;5;124m0\u001b[39m\u001b[38;5;124m'\u001b[39m]) \u001b[38;5;66;03m#Response\u001b[39;00m\n\u001b[1;32m      3\u001b[0m X \u001b[38;5;241m=\u001b[39m pd\u001b[38;5;241m.\u001b[39mDataFrame(alzheimersData_ohe\u001b[38;5;241m.\u001b[39mdrop(\u001b[38;5;124m'\u001b[39m\u001b[38;5;124m0\u001b[39m\u001b[38;5;124m'\u001b[39m, axis \u001b[38;5;241m=\u001b[39m \u001b[38;5;241m1\u001b[39m))\n",
      "File \u001b[0;32m~/anaconda3/lib/python3.11/site-packages/pandas/core/frame.py:3761\u001b[0m, in \u001b[0;36mDataFrame.__getitem__\u001b[0;34m(self, key)\u001b[0m\n\u001b[1;32m   3759\u001b[0m \u001b[38;5;28;01mif\u001b[39;00m \u001b[38;5;28mself\u001b[39m\u001b[38;5;241m.\u001b[39mcolumns\u001b[38;5;241m.\u001b[39mnlevels \u001b[38;5;241m>\u001b[39m \u001b[38;5;241m1\u001b[39m:\n\u001b[1;32m   3760\u001b[0m     \u001b[38;5;28;01mreturn\u001b[39;00m \u001b[38;5;28mself\u001b[39m\u001b[38;5;241m.\u001b[39m_getitem_multilevel(key)\n\u001b[0;32m-> 3761\u001b[0m indexer \u001b[38;5;241m=\u001b[39m \u001b[38;5;28mself\u001b[39m\u001b[38;5;241m.\u001b[39mcolumns\u001b[38;5;241m.\u001b[39mget_loc(key)\n\u001b[1;32m   3762\u001b[0m \u001b[38;5;28;01mif\u001b[39;00m is_integer(indexer):\n\u001b[1;32m   3763\u001b[0m     indexer \u001b[38;5;241m=\u001b[39m [indexer]\n",
      "File \u001b[0;32m~/anaconda3/lib/python3.11/site-packages/pandas/core/indexes/base.py:3655\u001b[0m, in \u001b[0;36mIndex.get_loc\u001b[0;34m(self, key)\u001b[0m\n\u001b[1;32m   3653\u001b[0m     \u001b[38;5;28;01mreturn\u001b[39;00m \u001b[38;5;28mself\u001b[39m\u001b[38;5;241m.\u001b[39m_engine\u001b[38;5;241m.\u001b[39mget_loc(casted_key)\n\u001b[1;32m   3654\u001b[0m \u001b[38;5;28;01mexcept\u001b[39;00m \u001b[38;5;167;01mKeyError\u001b[39;00m \u001b[38;5;28;01mas\u001b[39;00m err:\n\u001b[0;32m-> 3655\u001b[0m     \u001b[38;5;28;01mraise\u001b[39;00m \u001b[38;5;167;01mKeyError\u001b[39;00m(key) \u001b[38;5;28;01mfrom\u001b[39;00m \u001b[38;5;21;01merr\u001b[39;00m\n\u001b[1;32m   3656\u001b[0m \u001b[38;5;28;01mexcept\u001b[39;00m \u001b[38;5;167;01mTypeError\u001b[39;00m:\n\u001b[1;32m   3657\u001b[0m     \u001b[38;5;66;03m# If we have a listlike key, _check_indexing_error will raise\u001b[39;00m\n\u001b[1;32m   3658\u001b[0m     \u001b[38;5;66;03m#  InvalidIndexError. Otherwise we fall through and re-raise\u001b[39;00m\n\u001b[1;32m   3659\u001b[0m     \u001b[38;5;66;03m#  the TypeError.\u001b[39;00m\n\u001b[1;32m   3660\u001b[0m     \u001b[38;5;28mself\u001b[39m\u001b[38;5;241m.\u001b[39m_check_indexing_error(key)\n",
      "\u001b[0;31mKeyError\u001b[0m: '0'"
     ]
    }
   ],
   "source": [
    "# Extract Response and Predictors\n",
    "y = pd.DataFrame(alzheimersData_ohe['CDR']) #Response\n",
    "X = pd.DataFrame(alzheimersData_ohe.drop('CDR', axis = 1)) #Predictors"
   ]
  },
  {
   "cell_type": "markdown",
   "id": "e293bf2d",
   "metadata": {},
   "source": [
    "A simple Python function can be written and called"
   ]
  },
  {
   "cell_type": "code",
   "execution_count": 35,
   "id": "8d2fa694",
   "metadata": {},
   "outputs": [],
   "source": [
    "def ClassificationTree (predictor, response, depth, featurename):\n",
    "    \n",
    "    # Split the Legendary-Total Dataset into Train and Test\n",
    "    X_train, X_test, y_train, y_test = train_test_split(predictor, response, test_size=0.25, random_state=25)\n",
    "    \n",
    "    # Decision Tree using Train Data\n",
    "    dectree = DecisionTreeClassifier(max_depth = depth)\n",
    "    dectree.fit(X_train, y_train)\n",
    "    \n",
    "    # Predict Response values corresponding to Predictor\n",
    "    y_train_pred = dectree.predict(X_train)\n",
    "    y_test_pred = dectree.predict(X_test)\n",
    "    \n",
    "    column_name = X_train.columns\n",
    "    \n",
    "    # Plot the trained Decision Tree\n",
    "    f = plt.figure(figsize=(12,12))\n",
    "    plot_tree(dectree, filled=True, rounded=True, \n",
    "          feature_names= [featurename], \n",
    "          class_names=['No Air Conditioning','Air Conditioning']) \n",
    "    \n",
    "    return X_train, X_test, y_train, y_test, y_train_pred, y_test_pred, dectree"
   ]
  },
  {
   "cell_type": "markdown",
   "id": "25419ed0",
   "metadata": {},
   "source": [
    "### Classification Tree Model of Max Depth 3"
   ]
  },
  {
   "cell_type": "code",
   "execution_count": 36,
   "id": "f31265a7",
   "metadata": {},
   "outputs": [
    {
     "ename": "NameError",
     "evalue": "name 'x' is not defined",
     "output_type": "error",
     "traceback": [
      "\u001b[0;31m---------------------------------------------------------------------------\u001b[0m",
      "\u001b[0;31mNameError\u001b[0m                                 Traceback (most recent call last)",
      "Cell \u001b[0;32mIn[36], line 1\u001b[0m\n\u001b[0;32m----> 1\u001b[0m X_train3, X_test3, y_train3, y_test3, y_train_pred3, y_test_pred3, dectree3 \u001b[38;5;241m=\u001b[39m ClassificationTree (x, y, \u001b[38;5;241m3\u001b[39m, \u001b[38;5;124m\"\u001b[39m\u001b[38;5;124mSalePrice\u001b[39m\u001b[38;5;124m\"\u001b[39m)\n",
      "\u001b[0;31mNameError\u001b[0m: name 'x' is not defined"
     ]
    }
   ],
   "source": [
    "X_train3, X_test3, y_train3, y_test3, y_train_pred3, y_test_pred3, dectree3 = ClassificationTree (x, y, 3, \"SalePrice\")"
   ]
  },
  {
   "cell_type": "markdown",
   "id": "7bcb1f5a",
   "metadata": {},
   "source": [
    "## Check the Accuracy of the Model"
   ]
  },
  {
   "cell_type": "code",
   "execution_count": null,
   "id": "a02e653f",
   "metadata": {},
   "outputs": [],
   "source": [
    "Again, a simple Python function can be written and called"
   ]
  },
  {
   "cell_type": "code",
   "execution_count": null,
   "id": "1245835d",
   "metadata": {},
   "outputs": [],
   "source": [
    "def confusionmatrixValues(confusionmatrix):\n",
    "    tn = confusionmatrix[0][0]\n",
    "    fp = confusionmatrix[0][1]\n",
    "    fn = confusionmatrix[1][0]\n",
    "    tp = confusionmatrix[1][1]\n",
    "\n",
    "    return tn, fp, fn, tp\n",
    "\n",
    "def printConfusionMatrix(X_train, X_test, y_train, y_test, y_train_pred, y_test_pred , dectree):\n",
    "    \n",
    "    confusionmatrix_train = confusion_matrix(y_train, y_train_pred)\n",
    "    confusionmatrix_test = confusion_matrix(y_test, y_test_pred)\n",
    "\n",
    "    # Plot the Confusion Matrix for Train and Test\n",
    "    f, axes = plt.subplots(1, 2, figsize=(12, 4))\n",
    "    sb.heatmap(confusionmatrix_train,\n",
    "            annot = True, fmt=\".0f\", annot_kws={\"size\": 18}, ax = axes[0])\n",
    "    sb.heatmap(confusionmatrix_test, \n",
    "            annot = True, fmt=\".0f\", annot_kws={\"size\": 18}, ax = axes[1])\n",
    "\n",
    "\n",
    "    tn_train, fp_train, fn_train, tp_train = confusionmatrixValues(confusionmatrix_train)\n",
    "    tn_test, fp_test, fn_test, tp_test = confusionmatrixValues(confusionmatrix_test)\n",
    "    \n",
    "\n",
    "    # Check the Goodness of Fit (on Train Data)\n",
    "    print(\"Goodness of Fit of Model \\tTrain Dataset\")\n",
    "    print(\"Classification Accuracy \\t:\", dectree.score(X_train, y_train))\n",
    "    print(\"True Positive Rate (TPR) \\t:\", tp_train / (tp_train + fn_train))\n",
    "    print(\"False Positive Rate (FPR) \\t:\", fp_train / (fp_train + tn_train))\n",
    "    print()\n",
    "\n",
    "    # Check the Goodness of Fit (on Test Data)\n",
    "    print(\"Goodness of Fit of Model \\tTest Dataset\")\n",
    "    print(\"Classification Accuracy \\t:\", dectree.score(X_test, y_test))\n",
    "    print(\"True Positive Rate (TPR) \\t:\", tp_test / (tp_test + fn_test))\n",
    "    print(\"False Positive Rate (FPR) \\t:\", fp_test / (fp_test + tn_test))\n",
    "    print()\n",
    "\n",
    "    return"
   ]
  }
 ],
 "metadata": {
  "kernelspec": {
   "display_name": "Python 3 (ipykernel)",
   "language": "python",
   "name": "python3"
  },
  "language_info": {
   "codemirror_mode": {
    "name": "ipython",
    "version": 3
   },
   "file_extension": ".py",
   "mimetype": "text/x-python",
   "name": "python",
   "nbconvert_exporter": "python",
   "pygments_lexer": "ipython3",
   "version": "3.11.5"
  }
 },
 "nbformat": 4,
 "nbformat_minor": 5
}
