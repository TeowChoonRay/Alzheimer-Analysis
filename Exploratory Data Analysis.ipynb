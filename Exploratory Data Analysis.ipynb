{
 "cells": [
  {
   "cell_type": "markdown",
   "id": "9159f02e",
   "metadata": {},
   "source": [
    "# EXPLORATORY DATA ANALYSIS"
   ]
  },
  {
   "cell_type": "markdown",
   "id": "1568f889",
   "metadata": {},
   "source": [
    "# Import Essential Python Libraries"
   ]
  },
  {
   "cell_type": "code",
   "execution_count": 10,
   "id": "9582732b",
   "metadata": {},
   "outputs": [],
   "source": [
    "# Basic Libraries\n",
    "import numpy as np\n",
    "import pandas as pd\n",
    "import seaborn as sb\n",
    "import matplotlib.pyplot as plt # we only need pyplot\n",
    "sb.set() # set the default Seaborn style for graphics"
   ]
  },
  {
   "cell_type": "markdown",
   "id": "57d7207a",
   "metadata": {},
   "source": [
    "# Setup : Import the Dataset\n",
    "\n",
    "We will use the data stored in `cleaned-alzheimers-dataset.csv` created at the end of `Data Extraction and Cleaning`"
   ]
  },
  {
   "cell_type": "code",
   "execution_count": 11,
   "id": "9ddd124b",
   "metadata": {},
   "outputs": [
    {
     "data": {
      "text/html": [
       "<div>\n",
       "<style scoped>\n",
       "    .dataframe tbody tr th:only-of-type {\n",
       "        vertical-align: middle;\n",
       "    }\n",
       "\n",
       "    .dataframe tbody tr th {\n",
       "        vertical-align: top;\n",
       "    }\n",
       "\n",
       "    .dataframe thead th {\n",
       "        text-align: right;\n",
       "    }\n",
       "</style>\n",
       "<table border=\"1\" class=\"dataframe\">\n",
       "  <thead>\n",
       "    <tr style=\"text-align: right;\">\n",
       "      <th></th>\n",
       "      <th>M/F</th>\n",
       "      <th>Age</th>\n",
       "      <th>Educ</th>\n",
       "      <th>SES</th>\n",
       "      <th>MMSE</th>\n",
       "      <th>CDR</th>\n",
       "      <th>eTIV</th>\n",
       "      <th>nWBV</th>\n",
       "      <th>ASF</th>\n",
       "    </tr>\n",
       "  </thead>\n",
       "  <tbody>\n",
       "    <tr>\n",
       "      <th>0</th>\n",
       "      <td>F</td>\n",
       "      <td>74</td>\n",
       "      <td>2.0</td>\n",
       "      <td>3.0</td>\n",
       "      <td>29.0</td>\n",
       "      <td>0.0</td>\n",
       "      <td>1344</td>\n",
       "      <td>0.743</td>\n",
       "      <td>1.306</td>\n",
       "    </tr>\n",
       "    <tr>\n",
       "      <th>1</th>\n",
       "      <td>F</td>\n",
       "      <td>55</td>\n",
       "      <td>4.0</td>\n",
       "      <td>1.0</td>\n",
       "      <td>29.0</td>\n",
       "      <td>0.0</td>\n",
       "      <td>1147</td>\n",
       "      <td>0.810</td>\n",
       "      <td>1.531</td>\n",
       "    </tr>\n",
       "    <tr>\n",
       "      <th>2</th>\n",
       "      <td>F</td>\n",
       "      <td>73</td>\n",
       "      <td>4.0</td>\n",
       "      <td>3.0</td>\n",
       "      <td>27.0</td>\n",
       "      <td>0.5</td>\n",
       "      <td>1454</td>\n",
       "      <td>0.708</td>\n",
       "      <td>1.207</td>\n",
       "    </tr>\n",
       "    <tr>\n",
       "      <th>8</th>\n",
       "      <td>M</td>\n",
       "      <td>74</td>\n",
       "      <td>5.0</td>\n",
       "      <td>2.0</td>\n",
       "      <td>30.0</td>\n",
       "      <td>0.0</td>\n",
       "      <td>1636</td>\n",
       "      <td>0.689</td>\n",
       "      <td>1.073</td>\n",
       "    </tr>\n",
       "    <tr>\n",
       "      <th>9</th>\n",
       "      <td>F</td>\n",
       "      <td>52</td>\n",
       "      <td>3.0</td>\n",
       "      <td>2.0</td>\n",
       "      <td>30.0</td>\n",
       "      <td>0.0</td>\n",
       "      <td>1321</td>\n",
       "      <td>0.827</td>\n",
       "      <td>1.329</td>\n",
       "    </tr>\n",
       "    <tr>\n",
       "      <th>...</th>\n",
       "      <td>...</td>\n",
       "      <td>...</td>\n",
       "      <td>...</td>\n",
       "      <td>...</td>\n",
       "      <td>...</td>\n",
       "      <td>...</td>\n",
       "      <td>...</td>\n",
       "      <td>...</td>\n",
       "      <td>...</td>\n",
       "    </tr>\n",
       "    <tr>\n",
       "      <th>368</th>\n",
       "      <td>M</td>\n",
       "      <td>82</td>\n",
       "      <td>16.0</td>\n",
       "      <td>1.0</td>\n",
       "      <td>28.0</td>\n",
       "      <td>0.5</td>\n",
       "      <td>1693</td>\n",
       "      <td>0.694</td>\n",
       "      <td>1.037</td>\n",
       "    </tr>\n",
       "    <tr>\n",
       "      <th>369</th>\n",
       "      <td>M</td>\n",
       "      <td>86</td>\n",
       "      <td>16.0</td>\n",
       "      <td>1.0</td>\n",
       "      <td>26.0</td>\n",
       "      <td>0.5</td>\n",
       "      <td>1688</td>\n",
       "      <td>0.675</td>\n",
       "      <td>1.040</td>\n",
       "    </tr>\n",
       "    <tr>\n",
       "      <th>370</th>\n",
       "      <td>F</td>\n",
       "      <td>61</td>\n",
       "      <td>13.0</td>\n",
       "      <td>2.0</td>\n",
       "      <td>30.0</td>\n",
       "      <td>0.0</td>\n",
       "      <td>1319</td>\n",
       "      <td>0.801</td>\n",
       "      <td>1.331</td>\n",
       "    </tr>\n",
       "    <tr>\n",
       "      <th>371</th>\n",
       "      <td>F</td>\n",
       "      <td>63</td>\n",
       "      <td>13.0</td>\n",
       "      <td>2.0</td>\n",
       "      <td>30.0</td>\n",
       "      <td>0.0</td>\n",
       "      <td>1327</td>\n",
       "      <td>0.796</td>\n",
       "      <td>1.323</td>\n",
       "    </tr>\n",
       "    <tr>\n",
       "      <th>372</th>\n",
       "      <td>F</td>\n",
       "      <td>65</td>\n",
       "      <td>13.0</td>\n",
       "      <td>2.0</td>\n",
       "      <td>30.0</td>\n",
       "      <td>0.0</td>\n",
       "      <td>1333</td>\n",
       "      <td>0.801</td>\n",
       "      <td>1.317</td>\n",
       "    </tr>\n",
       "  </tbody>\n",
       "</table>\n",
       "<p>608 rows × 9 columns</p>\n",
       "</div>"
      ],
      "text/plain": [
       "    M/F  Age  Educ  SES  MMSE  CDR  eTIV   nWBV    ASF\n",
       "0     F   74   2.0  3.0  29.0  0.0  1344  0.743  1.306\n",
       "1     F   55   4.0  1.0  29.0  0.0  1147  0.810  1.531\n",
       "2     F   73   4.0  3.0  27.0  0.5  1454  0.708  1.207\n",
       "8     M   74   5.0  2.0  30.0  0.0  1636  0.689  1.073\n",
       "9     F   52   3.0  2.0  30.0  0.0  1321  0.827  1.329\n",
       "..   ..  ...   ...  ...   ...  ...   ...    ...    ...\n",
       "368   M   82  16.0  1.0  28.0  0.5  1693  0.694  1.037\n",
       "369   M   86  16.0  1.0  26.0  0.5  1688  0.675  1.040\n",
       "370   F   61  13.0  2.0  30.0  0.0  1319  0.801  1.331\n",
       "371   F   63  13.0  2.0  30.0  0.0  1327  0.796  1.323\n",
       "372   F   65  13.0  2.0  30.0  0.0  1333  0.801  1.317\n",
       "\n",
       "[608 rows x 9 columns]"
      ]
     },
     "execution_count": 11,
     "metadata": {},
     "output_type": "execute_result"
    }
   ],
   "source": [
    "alzheimersdata = pd.read_csv('cleaned-alzheimers-dataset.csv',index_col= 0)\n",
    "alzheimersdata"
   ]
  },
  {
   "cell_type": "markdown",
   "id": "8b383a2e",
   "metadata": {},
   "source": [
    "# Response Variable\n",
    "\n",
    "Let us start by exploring the response variable `CDR`, the one we are supposed to predict at the end of the day."
   ]
  },
  {
   "cell_type": "code",
   "execution_count": 12,
   "id": "06397390",
   "metadata": {},
   "outputs": [
    {
     "name": "stderr",
     "output_type": "stream",
     "text": [
      "/Users/choonray/anaconda3/lib/python3.11/site-packages/seaborn/axisgrid.py:118: UserWarning: The figure layout has changed to tight\n",
      "  self._figure.tight_layout(*args, **kwargs)\n"
     ]
    },
    {
     "data": {
      "text/plain": [
       "<seaborn.axisgrid.FacetGrid at 0x128bbf1d0>"
      ]
     },
     "execution_count": 12,
     "metadata": {},
     "output_type": "execute_result"
    },
    {
     "data": {
      "image/png": "[encoded data removed]",
      "text/plain": [
       "<Figure size 500x500 with 1 Axes>"
      ]
     },
     "metadata": {},
     "output_type": "display_data"
    }
   ],
   "source": [
    "sb.catplot(y = 'CDR', data = alzheimersdata, kind = \"count\")"
   ]
  },
  {
   "cell_type": "code",
   "execution_count": 13,
   "id": "4d59eeb3",
   "metadata": {},
   "outputs": [
    {
     "name": "stdout",
     "output_type": "stream",
     "text": [
      "Ratio of classes is Normal : Very Mild: Mild: Moderate =  341 : 193 : 69 : 5\n"
     ]
    }
   ],
   "source": [
    "countNormal, countVeryMild, countMild, countModerate = alzheimersdata['CDR'].value_counts()\n",
    "print(\"Ratio of classes is Normal : Very Mild: Mild: Moderate = \", countNormal, \":\", countVeryMild, \":\", countMild, \":\", countModerate)"
   ]
  },
  {
   "cell_type": "markdown",
   "id": "0bd8478f",
   "metadata": {},
   "source": [
    "Let us explore the other clinical info variable `MMSE`"
   ]
  },
  {
   "cell_type": "code",
   "execution_count": 14,
   "id": "38f389ae",
   "metadata": {},
   "outputs": [],
   "source": [
    "#ITSCHLOECHLOE"
   ]
  },
  {
   "cell_type": "markdown",
   "id": "50cf275c",
   "metadata": {},
   "source": [
    "# Predictor Variables"
   ]
  },
  {
   "cell_type": "markdown",
   "id": "780ba0d6",
   "metadata": {},
   "source": [
    "### NUMERIC PREDICTORS"
   ]
  },
  {
   "cell_type": "code",
   "execution_count": 15,
   "id": "a457fd63",
   "metadata": {},
   "outputs": [],
   "source": [
    "#ITSCHLOECHLOE"
   ]
  },
  {
   "cell_type": "markdown",
   "id": "b5d80394",
   "metadata": {},
   "source": [
    "### CATEGORICAL PREDICTORS"
   ]
  },
  {
   "cell_type": "code",
   "execution_count": 16,
   "id": "86ecffc5",
   "metadata": {},
   "outputs": [],
   "source": [
    "#ITSCHLOECHLOE"
   ]
  },
  {
   "cell_type": "markdown",
   "id": "faa658e1",
   "metadata": {},
   "source": [
    "## Predictors Corresponding to Demographics Information"
   ]
  },
  {
   "cell_type": "code",
   "execution_count": 17,
   "id": "f6c91349",
   "metadata": {},
   "outputs": [],
   "source": [
    "#ITSCHLOECHLOE"
   ]
  },
  {
   "cell_type": "markdown",
   "id": "67319c8f",
   "metadata": {},
   "source": [
    "## Predictors Corresponding to Derived Anatomic Volumes"
   ]
  },
  {
   "cell_type": "code",
   "execution_count": 18,
   "id": "99b98992",
   "metadata": {},
   "outputs": [],
   "source": [
    "#ITSCHLOECHLOE"
   ]
  },
  {
   "cell_type": "markdown",
   "id": "7456eb63",
   "metadata": {},
   "source": [
    "# Relationship with Response Variables (Clinical Info)"
   ]
  },
  {
   "cell_type": "code",
   "execution_count": 19,
   "id": "48bee303",
   "metadata": {},
   "outputs": [],
   "source": [
    "##ITSCHLOECHLOE"
   ]
  },
  {
   "cell_type": "code",
   "execution_count": null,
   "id": "cbbdb854",
   "metadata": {},
   "outputs": [],
   "source": []
  }
 ],
 "metadata": {
  "kernelspec": {
   "display_name": "Python 3 (ipykernel)",
   "language": "python",
   "name": "python3"
  },
  "language_info": {
   "codemirror_mode": {
    "name": "ipython",
    "version": 3
   },
   "file_extension": ".py",
   "mimetype": "text/x-python",
   "name": "python",
   "nbconvert_exporter": "python",
   "pygments_lexer": "ipython3",
   "version": "3.11.5"
  }
 },
 "nbformat": 4,
 "nbformat_minor": 5
}
